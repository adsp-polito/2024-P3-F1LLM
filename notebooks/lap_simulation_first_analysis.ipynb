{
 "cells": [
  {
   "cell_type": "code",
   "execution_count": 2,
   "metadata": {},
   "outputs": [],
   "source": [
    "import numpy as np\n",
    "import pandas as pd\n",
    "import torch\n",
    "import torch.nn as nn\n",
    "import torch.optim as optim\n",
    "from torch.utils.data import DataLoader, Dataset\n",
    "import matplotlib.pyplot as plt\n",
    "from sklearn.preprocessing import StandardScaler, OneHotEncoder\n",
    "from sklearn.compose import ColumnTransformer\n",
    "from sklearn.model_selection import train_test_split\n",
    "from tqdm import tqdm\n",
    "import os\n",
    "import fastf1 as ff1"
   ]
  },
  {
   "cell_type": "code",
   "execution_count": 69,
   "metadata": {},
   "outputs": [
    {
     "name": "stderr",
     "output_type": "stream",
     "text": [
      "core           INFO \tLoading data for Azerbaijan Grand Prix - Qualifying [v3.4.4]\n",
      "req            INFO \tNo cached data found for session_info. Loading data...\n",
      "_api           INFO \tFetching session info data...\n",
      "req            INFO \tData has been written to cache!\n",
      "req            INFO \tNo cached data found for driver_info. Loading data...\n",
      "_api           INFO \tFetching driver list...\n",
      "req            INFO \tData has been written to cache!\n",
      "req            INFO \tNo cached data found for session_status_data. Loading data...\n",
      "_api           INFO \tFetching session status data...\n",
      "req            INFO \tData has been written to cache!\n",
      "req            INFO \tNo cached data found for track_status_data. Loading data...\n",
      "_api           INFO \tFetching track status data...\n",
      "req            INFO \tData has been written to cache!\n",
      "req            INFO \tNo cached data found for _extended_timing_data. Loading data...\n",
      "_api           INFO \tFetching timing data...\n",
      "_api           INFO \tParsing timing data...\n",
      "req            INFO \tData has been written to cache!\n",
      "req            INFO \tNo cached data found for timing_app_data. Loading data...\n",
      "_api           INFO \tFetching timing app data...\n",
      "req            INFO \tData has been written to cache!\n",
      "core           INFO \tProcessing timing data...\n",
      "req            INFO \tNo cached data found for car_data. Loading data...\n",
      "_api           INFO \tFetching car data...\n",
      "_api           INFO \tParsing car data...\n",
      "req            INFO \tData has been written to cache!\n",
      "req            INFO \tNo cached data found for position_data. Loading data...\n",
      "_api           INFO \tFetching position data...\n",
      "_api           INFO \tParsing position data...\n",
      "req            INFO \tData has been written to cache!\n",
      "req            INFO \tNo cached data found for weather_data. Loading data...\n",
      "_api           INFO \tFetching weather data...\n",
      "req            INFO \tData has been written to cache!\n",
      "req            INFO \tNo cached data found for race_control_messages. Loading data...\n",
      "_api           INFO \tFetching race control messages...\n",
      "req            INFO \tData has been written to cache!\n",
      "core           INFO \tFinished loading data for 20 drivers: ['16', '81', '55', '11', '63', '1', '44', '14', '43', '23', '50', '22', '27', '18', '3', '4', '77', '24', '31', '10']\n"
     ]
    }
   ],
   "source": [
    "sessionQuali = ff1.get_session(2024, \"Baku\", 'Q')\n",
    "sessionQuali.load(laps=True, telemetry=True, weather=True)"
   ]
  },
  {
   "cell_type": "code",
   "execution_count": 70,
   "metadata": {},
   "outputs": [
    {
     "name": "stderr",
     "output_type": "stream",
     "text": [
      "C:\\Users\\benot\\AppData\\Roaming\\Python\\Python311\\site-packages\\fastf1\\core.py:3073: FutureWarning: pick_team is deprecated and will be removed in a future release. Use pick_teams instead.\n",
      "  warnings.warn((\"pick_team is deprecated and will be removed\"\n"
     ]
    }
   ],
   "source": [
    "laps = sessionQuali.laps.pick_team(\"Ferrari\")"
   ]
  },
  {
   "cell_type": "code",
   "execution_count": 71,
   "metadata": {},
   "outputs": [],
   "source": [
    "quick_laps = laps.pick_quicklaps()"
   ]
  },
  {
   "cell_type": "code",
   "execution_count": 64,
   "metadata": {},
   "outputs": [
    {
     "data": {
      "text/plain": [
       "Index(['Time', 'Driver', 'DriverNumber', 'LapTime', 'LapNumber', 'Stint',\n",
       "       'PitOutTime', 'PitInTime', 'Sector1Time', 'Sector2Time', 'Sector3Time',\n",
       "       'Sector1SessionTime', 'Sector2SessionTime', 'Sector3SessionTime',\n",
       "       'SpeedI1', 'SpeedI2', 'SpeedFL', 'SpeedST', 'IsPersonalBest',\n",
       "       'Compound', 'TyreLife', 'FreshTyre', 'Team', 'LapStartTime',\n",
       "       'LapStartDate', 'TrackStatus', 'Position', 'Deleted', 'DeletedReason',\n",
       "       'FastF1Generated', 'IsAccurate'],\n",
       "      dtype='object')"
      ]
     },
     "execution_count": 64,
     "metadata": {},
     "output_type": "execute_result"
    }
   ],
   "source": [
    "quick_laps.columns"
   ]
  },
  {
   "cell_type": "code",
   "execution_count": 72,
   "metadata": {},
   "outputs": [
    {
     "data": {
      "text/plain": [
       "(                  LapTime DriverNumber Compound  TyreLife\n",
       " 1  0 days 00:01:43.595000           16     SOFT       2.0\n",
       " 4  0 days 00:01:42.775000           16     SOFT       5.0\n",
       " 41 0 days 00:01:43.517000           55     SOFT       3.0\n",
       " 46 0 days 00:01:43.357000           55     SOFT       8.0,\n",
       "                   LapTime DriverNumber Compound  TyreLife\n",
       " 7  0 days 00:01:43.422000           16     SOFT       8.0\n",
       " 10 0 days 00:01:42.056000           16     SOFT       2.0\n",
       " 49 0 days 00:01:43.225000           55     SOFT      11.0\n",
       " 52 0 days 00:01:42.503000           55     SOFT       2.0,\n",
       "                   LapTime DriverNumber Compound  TyreLife\n",
       " 15 0 days 00:01:41.610000           16     SOFT       2.0\n",
       " 18 0 days 00:01:41.365000           16     SOFT       2.0\n",
       " 57 0 days 00:01:41.815000           55     SOFT       2.0\n",
       " 60 0 days 00:01:41.805000           55     SOFT       2.0)"
      ]
     },
     "execution_count": 72,
     "metadata": {},
     "output_type": "execute_result"
    }
   ],
   "source": [
    "q1, q2, q3 = quick_laps.split_qualifying_sessions()\n",
    "q1[[\"LapTime\",\"DriverNumber\",\"Compound\",\"TyreLife\"]], q2[[\"LapTime\",\"DriverNumber\",\"Compound\",\"TyreLife\"]], q3[[\"LapTime\",\"DriverNumber\",\"Compound\",\"TyreLife\"]]"
   ]
  },
  {
   "cell_type": "code",
   "execution_count": 51,
   "metadata": {},
   "outputs": [
    {
     "name": "stderr",
     "output_type": "stream",
     "text": [
      "core        WARNING \tFailed to preserve data type for column 'X' while merging telemetry.\n",
      "core        WARNING \tFailed to preserve data type for column 'Y' while merging telemetry.\n",
      "core        WARNING \tFailed to preserve data type for column 'Z' while merging telemetry.\n",
      "core        WARNING \tFailed to preserve data type for column 'X' while merging telemetry.\n",
      "core        WARNING \tFailed to preserve data type for column 'Y' while merging telemetry.\n",
      "core        WARNING \tFailed to preserve data type for column 'Z' while merging telemetry.\n",
      "core        WARNING \tFailed to preserve data type for column 'X' while merging telemetry.\n",
      "core        WARNING \tFailed to preserve data type for column 'Y' while merging telemetry.\n",
      "core        WARNING \tFailed to preserve data type for column 'Z' while merging telemetry.\n",
      "core        WARNING \tFailed to preserve data type for column 'X' while merging telemetry.\n",
      "core        WARNING \tFailed to preserve data type for column 'Y' while merging telemetry.\n",
      "core        WARNING \tFailed to preserve data type for column 'Z' while merging telemetry.\n",
      "core        WARNING \tFailed to preserve data type for column 'X' while merging telemetry.\n",
      "core        WARNING \tFailed to preserve data type for column 'Y' while merging telemetry.\n",
      "core        WARNING \tFailed to preserve data type for column 'Z' while merging telemetry.\n",
      "core        WARNING \tFailed to preserve data type for column 'X' while merging telemetry.\n",
      "core        WARNING \tFailed to preserve data type for column 'Y' while merging telemetry.\n",
      "core        WARNING \tFailed to preserve data type for column 'Z' while merging telemetry.\n"
     ]
    }
   ],
   "source": [
    "telemetry_frames = []\n",
    "for _,lap in quick_laps.iterrows():\n",
    "        telemetry = lap.get_telemetry()\n",
    "        telemetry['Distance'] = telemetry['Distance'].clip(lower=0)  # Set negative distance values to 0\n",
    "        # telemetry['LapNumber'] = lap['LapNumber']\n",
    "        # telemetry['DriverNumber'] = driver_number\n",
    "        telemetry['Year'] = \"2024\"\n",
    "        telemetry['Event'] = \"Italian Gran Prix\"\n",
    "        telemetry[\"Team\"] = \"Ferrari\"\n",
    "        telemetry_frames.append(telemetry)\n",
    "\n",
    "    # Combine telemetry frames if available\n",
    "tel = pd.concat(telemetry_frames) if telemetry_frames else None"
   ]
  },
  {
   "cell_type": "code",
   "execution_count": 52,
   "metadata": {},
   "outputs": [
    {
     "data": {
      "text/plain": [
       "Date                        0\n",
       "SessionTime                 0\n",
       "DriverAhead                 0\n",
       "DistanceToDriverAhead    1228\n",
       "Time                        0\n",
       "RPM                         0\n",
       "Speed                       0\n",
       "nGear                       0\n",
       "Throttle                    0\n",
       "Brake                       0\n",
       "DRS                         0\n",
       "Source                      0\n",
       "Distance                    0\n",
       "RelativeDistance            0\n",
       "Status                      0\n",
       "X                           0\n",
       "Y                           0\n",
       "Z                           0\n",
       "Year                        0\n",
       "Event                       0\n",
       "Team                        0\n",
       "dtype: int64"
      ]
     },
     "execution_count": 52,
     "metadata": {},
     "output_type": "execute_result"
    }
   ],
   "source": [
    "#check if missing values\n",
    "tel.isnull().sum()"
   ]
  },
  {
   "cell_type": "code",
   "execution_count": 61,
   "metadata": {},
   "outputs": [
    {
     "data": {
      "text/plain": [
       "array(['McLaren', 'Mercedes', 'Ferrari', 'Red Bull Racing', 'Williams',\n",
       "       'Haas F1 Team', 'Aston Martin', 'RB', 'Alpine', 'Kick Sauber'],\n",
       "      dtype=object)"
      ]
     },
     "execution_count": 61,
     "metadata": {},
     "output_type": "execute_result"
    }
   ],
   "source": [
    "#pick all the teams name of the session\n",
    "sessionQuali.laps[\"Team\"].unique()"
   ]
  }
 ],
 "metadata": {
  "kernelspec": {
   "display_name": "base",
   "language": "python",
   "name": "python3"
  },
  "language_info": {
   "codemirror_mode": {
    "name": "ipython",
    "version": 3
   },
   "file_extension": ".py",
   "mimetype": "text/x-python",
   "name": "python",
   "nbconvert_exporter": "python",
   "pygments_lexer": "ipython3",
   "version": "3.11.7"
  }
 },
 "nbformat": 4,
 "nbformat_minor": 2
}
