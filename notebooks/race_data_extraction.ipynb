{
 "cells": [
  {
   "cell_type": "code",
   "metadata": {
    "ExecuteTime": {
     "end_time": "2024-11-26T17:39:57.519590Z",
     "start_time": "2024-11-26T17:39:57.505451Z"
    }
   },
   "source": [
    "import fastf1 as ff1\n",
    "import pandas as pd\n",
    "import os\n",
    "from IPython.display import clear_output"
   ],
   "outputs": [],
   "execution_count": 4
  },
  {
   "cell_type": "code",
   "metadata": {
    "ExecuteTime": {
     "end_time": "2024-11-26T17:39:57.541011Z",
     "start_time": "2024-11-26T17:39:57.524862Z"
    }
   },
   "source": [
    "# Function to load and prepare the session data\n",
    "def load_session(year, event_name, driver_number, include_weather):\n",
    "    \n",
    "    try:\n",
    "        # Retrieve and Load the session\n",
    "        session = ff1.get_session(year, event_name, 'R')\n",
    "        session.load(laps=True, telemetry=True, weather=include_weather)\n",
    "        \n",
    "        # Filter laps for the given driver\n",
    "        laps = session.laps.pick_drivers(driver_number)\n",
    "        \n",
    "        # Check if data are returned\n",
    "        if laps.empty:\n",
    "            print(f\"No data available for driver {driver_number} in {event_name}.\")\n",
    "            return None, None\n",
    "        \n",
    "        return session, laps\n",
    "    \n",
    "    except Exception as e:\n",
    "        print(f\"Error loading data for {year} {event_name}: {e}\")\n",
    "        return None, None\n",
    "\n",
    "# Function to get the last 3 laps of the given driver\n",
    "def get_last_3_laps(laps):\n",
    "    \n",
    "    # Determine the last lap number and filter the last 3 laps\n",
    "    last_lap_number = laps['LapNumber'].max()\n",
    "    start_lap_number = max(1, last_lap_number - 2)\n",
    "    return laps[laps['LapNumber'].between(start_lap_number, last_lap_number)]\n",
    "\n",
    "# Function to merge laps with weather data (if taken)\n",
    "def merge_laps_weather(laps, weather_data, include_weather):\n",
    "    if not include_weather or weather_data is None:\n",
    "        return laps\n",
    "    \n",
    "    # Select relevant weather columns\n",
    "    weather_data = weather_data[['Time', 'AirTemp', 'Humidity', 'Pressure', 'Rainfall', 'TrackTemp', 'WindDirection', 'WindSpeed']]\n",
    "    \n",
    "    # Perform a backward merge to align weather data with laps\n",
    "    return pd.merge_asof(\n",
    "        laps.sort_values(by=\"Time\"),\n",
    "        weather_data.sort_values(by=\"Time\"),\n",
    "        on=\"Time\",\n",
    "        direction=\"backward\"\n",
    "    )\n",
    "\n",
    "# Function to extract telemetry data for the last 3 laps\n",
    "def get_telemetry_data(target_laps, driver_number, year, event_name):\n",
    "    \n",
    "    telemetry_frames = []\n",
    "    \n",
    "    for _, lap in target_laps.iterrows():\n",
    "        \n",
    "        telemetry = lap.get_telemetry()\n",
    "        \n",
    "        if telemetry is not None:\n",
    "            \n",
    "            # Select relevant telemetry columns\n",
    "            telemetry = telemetry[['Time', 'RPM', 'Speed', 'nGear', 'Throttle', 'Brake',\n",
    "                                   'DRS', 'Distance', 'X', 'Y', 'Z']]\n",
    "            \n",
    "            telemetry['Distance'] = telemetry['Distance'].clip(lower=0) # Set negative distance values to 0\n",
    "            telemetry['LapNumber'] = lap['LapNumber']\n",
    "            telemetry['DriverNumber'] = driver_number\n",
    "            telemetry['Year'] = f\"{year}\"\n",
    "            telemetry['Event'] = f\"{event_name}\"\n",
    "            telemetry_frames.append(telemetry)\n",
    "    \n",
    "    # Combine telemetry frames if available\n",
    "    return pd.concat(telemetry_frames) if telemetry_frames else None\n",
    "\n",
    "# Function to clean and format the final data\n",
    "def preprocessing(final_data):\n",
    "   \n",
    "    # Drop redundant 'Time_x' column (returned from weather) if it exists\n",
    "    if 'Time_x' in final_data.columns:\n",
    "        final_data.drop(columns=['Time_x'], inplace=True)\n",
    "    \n",
    "    # Format 'Time_y' as mm:ss.sss\n",
    "    final_data['Time_y'] = final_data['Time_y'].apply(\n",
    "        lambda x: f\"{int(x.total_seconds() // 60):02}:{int(x.total_seconds() % 60):02}.{int(x.microseconds / 1000):03}\"\n",
    "    )\n",
    "    final_data.rename(columns={'Time_y': 'Time'}, inplace=True)\n",
    "    \n",
    "    # Remove rows where speed is 0\n",
    "    final_data = final_data[final_data['Speed'] > 0]\n",
    "    \n",
    "    # Convert LapNumber to int\n",
    "    final_data['LapNumber'] = final_data['LapNumber'].astype(int)\n",
    "    \n",
    "    # Round Distance to 3 decimal places\n",
    "    final_data['Distance'] = final_data['Distance'].round(3)\n",
    "    \n",
    "    return final_data\n",
    "\n",
    "# Function to save the final processed data\n",
    "def save_data(final_data, output_folder, year, event_name, driver_number):\n",
    "    \n",
    "    # Create folders based on year and event\n",
    "    year_folder = os.path.join(output_folder, str(year))\n",
    "    race_folder = os.path.join(year_folder, event_name.replace(' ', '_'))\n",
    "    os.makedirs(race_folder, exist_ok=True)\n",
    "    \n",
    "    # Save the final CSV file\n",
    "    output_file = os.path.join(race_folder, f\"{driver_number}_{event_name}_{year}.csv\")\n",
    "    final_data.to_csv(output_file, index=False)\n",
    "\n",
    "    print(f\"Saved: {output_file}\")\n",
    "\n",
    "# Main function to process data for all races\n",
    "def data_from_races(db_path, output_folder, include_weather=True, save_file=True, years_to_include=None):\n",
    "    \n",
    "    # Enable FastF1 cache\n",
    "    ff1.Cache.enable_cache('cache')\n",
    "\n",
    "    # Load the CSV file containing race data\n",
    "    df = pd.read_csv(db_path)\n",
    "\n",
    "    # Filter the data for specific years if provided\n",
    "    if years_to_include is not None:\n",
    "        df = df[df['Year'].isin(years_to_include)]\n",
    "\n",
    "    if df.empty:\n",
    "        print(\"No data to process for the specified years.\")\n",
    "        return\n",
    "\n",
    "    # Iterate over each driver in the race data\n",
    "    for _, row in df.iterrows():\n",
    "        year = row['Year']\n",
    "        event_name = row['EventName']\n",
    "        driver_number = row['DriverNumber']\n",
    "\n",
    "        # Load session data\n",
    "        session, laps = load_session(year, event_name, driver_number, include_weather)\n",
    "        if session is None or laps is None:\n",
    "            continue\n",
    "\n",
    "        # Extract the last 3 laps of the driver\n",
    "        target_laps = get_last_3_laps(laps)\n",
    "        laps_data = target_laps[['DriverNumber', 'LapNumber', 'Compound', 'TyreLife', 'Time']]\n",
    "\n",
    "        # Merge laps with weather data if included\n",
    "        if include_weather:\n",
    "            laps_with_weather = merge_laps_weather(laps_data, session.weather_data, include_weather)\n",
    "        else:\n",
    "            laps_with_weather = laps_data\n",
    "\n",
    "        # Extract telemetry data\n",
    "        telemetry_data = get_telemetry_data(target_laps, driver_number, year, event_name)\n",
    "        if telemetry_data is None:\n",
    "            print(f\"No telemetry data for driver {driver_number} in {event_name}.\")\n",
    "            continue\n",
    "\n",
    "        # Merge laps+weather with telemetry data\n",
    "        laps_with_weather['DriverNumber'] = laps_with_weather['DriverNumber'].astype(str)\n",
    "        telemetry_data['DriverNumber'] = telemetry_data['DriverNumber'].astype(str)\n",
    "\n",
    "        final_data = pd.merge(\n",
    "            laps_with_weather,\n",
    "            telemetry_data,\n",
    "            on=['DriverNumber', 'LapNumber'],\n",
    "            how='inner'\n",
    "        )\n",
    "\n",
    "        # Clean and format the final data\n",
    "        final_data = preprocessing(final_data)\n",
    "\n",
    "        # Save the final data if requested\n",
    "        if save_file:\n",
    "            save_data(final_data, output_folder, year, event_name, driver_number)\n",
    "        \n",
    "        clear_output()\n",
    "\n",
    "    print(\"All csv have been saved\")"
   ],
   "outputs": [],
   "execution_count": 5
  },
  {
   "cell_type": "code",
   "metadata": {
    "ExecuteTime": {
     "end_time": "2024-11-26T17:40:45.911182Z",
     "start_time": "2024-11-26T17:39:57.541933Z"
    }
   },
   "source": [
    "# Input and output paths\n",
    "db_path = 'Failures2014_2024_cleaned.csv'\n",
    "output_folder = 'TelemetryData'\n",
    "\n",
    "# Execute the main function\n",
    "data_from_races(\n",
    "    db_path,\n",
    "    output_folder,\n",
    "    include_weather=True,\n",
    "    save_file=True,\n",
    "    years_to_include=range(2014, 2015)  # List of years to include\n",
    ")"
   ],
   "outputs": [
    {
     "name": "stderr",
     "output_type": "stream",
     "text": [
      "core           INFO \tLoading data for Australian Grand Prix - Race [v3.4.4]\n",
      "req            INFO \tNo cached data found for session_info. Loading data...\n",
      "_api           INFO \tFetching session info data...\n",
      "logger      WARNING \tFailed to load session info data!\n",
      "core        WARNING \tCannot load laps, telemetry, weather, and message data because the relevant API is not supported for this session.\n",
      "core           INFO \tFinished loading data for 22 drivers: ['6', '20', '22', '14', '77', '27', '7', '25', '26', '11', '99', '21', '4', '17', '8', '13', '9', '1', '44', '19', '10', '3']\n",
      "core           INFO \tLoading data for Australian Grand Prix - Race [v3.4.4]\n",
      "req            INFO \tNo cached data found for session_info. Loading data...\n",
      "_api           INFO \tFetching session info data...\n"
     ]
    },
    {
     "name": "stdout",
     "output_type": "stream",
     "text": [
      "Error loading data for 2014 Australian Grand Prix: The data you are trying to access has not been loaded yet. See `Session.load`\n"
     ]
    },
    {
     "name": "stderr",
     "output_type": "stream",
     "text": [
      "logger      WARNING \tFailed to load session info data!\n",
      "core        WARNING \tCannot load laps, telemetry, weather, and message data because the relevant API is not supported for this session.\n",
      "core           INFO \tFinished loading data for 22 drivers: ['6', '20', '22', '14', '77', '27', '7', '25', '26', '11', '99', '21', '4', '17', '8', '13', '9', '1', '44', '19', '10', '3']\n",
      "core           INFO \tLoading data for Australian Grand Prix - Race [v3.4.4]\n",
      "req            INFO \tNo cached data found for session_info. Loading data...\n",
      "_api           INFO \tFetching session info data...\n"
     ]
    },
    {
     "name": "stdout",
     "output_type": "stream",
     "text": [
      "Error loading data for 2014 Australian Grand Prix: The data you are trying to access has not been loaded yet. See `Session.load`\n"
     ]
    },
    {
     "name": "stderr",
     "output_type": "stream",
     "text": [
      "logger      WARNING \tFailed to load session info data!\n",
      "core        WARNING \tCannot load laps, telemetry, weather, and message data because the relevant API is not supported for this session.\n",
      "core           INFO \tFinished loading data for 22 drivers: ['6', '20', '22', '14', '77', '27', '7', '25', '26', '11', '99', '21', '4', '17', '8', '13', '9', '1', '44', '19', '10', '3']\n",
      "core           INFO \tLoading data for Australian Grand Prix - Race [v3.4.4]\n",
      "req            INFO \tNo cached data found for session_info. Loading data...\n",
      "_api           INFO \tFetching session info data...\n"
     ]
    },
    {
     "name": "stdout",
     "output_type": "stream",
     "text": [
      "Error loading data for 2014 Australian Grand Prix: The data you are trying to access has not been loaded yet. See `Session.load`\n"
     ]
    },
    {
     "name": "stderr",
     "output_type": "stream",
     "text": [
      "logger      WARNING \tFailed to load session info data!\n",
      "core        WARNING \tCannot load laps, telemetry, weather, and message data because the relevant API is not supported for this session.\n",
      "core           INFO \tFinished loading data for 22 drivers: ['6', '20', '22', '14', '77', '27', '7', '25', '26', '11', '99', '21', '4', '17', '8', '13', '9', '1', '44', '19', '10', '3']\n",
      "core           INFO \tLoading data for Australian Grand Prix - Race [v3.4.4]\n",
      "req            INFO \tNo cached data found for session_info. Loading data...\n",
      "_api           INFO \tFetching session info data...\n"
     ]
    },
    {
     "name": "stdout",
     "output_type": "stream",
     "text": [
      "Error loading data for 2014 Australian Grand Prix: The data you are trying to access has not been loaded yet. See `Session.load`\n"
     ]
    },
    {
     "name": "stderr",
     "output_type": "stream",
     "text": [
      "logger      WARNING \tFailed to load session info data!\n",
      "core        WARNING \tCannot load laps, telemetry, weather, and message data because the relevant API is not supported for this session.\n",
      "core           INFO \tFinished loading data for 22 drivers: ['6', '20', '22', '14', '77', '27', '7', '25', '26', '11', '99', '21', '4', '17', '8', '13', '9', '1', '44', '19', '10', '3']\n",
      "core           INFO \tLoading data for Malaysian Grand Prix - Race [v3.4.4]\n",
      "req            INFO \tNo cached data found for session_info. Loading data...\n",
      "_api           INFO \tFetching session info data...\n"
     ]
    },
    {
     "name": "stdout",
     "output_type": "stream",
     "text": [
      "Error loading data for 2014 Australian Grand Prix: The data you are trying to access has not been loaded yet. See `Session.load`\n"
     ]
    },
    {
     "name": "stderr",
     "output_type": "stream",
     "text": [
      "logger      WARNING \tFailed to load session info data!\n",
      "core        WARNING \tCannot load laps, telemetry, weather, and message data because the relevant API is not supported for this session.\n",
      "core           INFO \tFinished loading data for 22 drivers: ['44', '6', '1', '14', '27', '22', '19', '77', '20', '26', '8', '7', '10', '9', '4', '3', '21', '99', '25', '17', '13', '11']\n",
      "core           INFO \tLoading data for Malaysian Grand Prix - Race [v3.4.4]\n",
      "req            INFO \tNo cached data found for session_info. Loading data...\n",
      "_api           INFO \tFetching session info data...\n"
     ]
    },
    {
     "name": "stdout",
     "output_type": "stream",
     "text": [
      "Error loading data for 2014 Malaysian Grand Prix: The data you are trying to access has not been loaded yet. See `Session.load`\n"
     ]
    },
    {
     "name": "stderr",
     "output_type": "stream",
     "text": [
      "logger      WARNING \tFailed to load session info data!\n",
      "core        WARNING \tCannot load laps, telemetry, weather, and message data because the relevant API is not supported for this session.\n",
      "core           INFO \tFinished loading data for 22 drivers: ['44', '6', '1', '14', '27', '22', '19', '77', '20', '26', '8', '7', '10', '9', '4', '3', '21', '99', '25', '17', '13', '11']\n",
      "core           INFO \tLoading data for Malaysian Grand Prix - Race [v3.4.4]\n",
      "req            INFO \tNo cached data found for session_info. Loading data...\n",
      "_api           INFO \tFetching session info data...\n"
     ]
    },
    {
     "name": "stdout",
     "output_type": "stream",
     "text": [
      "Error loading data for 2014 Malaysian Grand Prix: The data you are trying to access has not been loaded yet. See `Session.load`\n"
     ]
    },
    {
     "name": "stderr",
     "output_type": "stream",
     "text": [
      "logger      WARNING \tFailed to load session info data!\n",
      "core        WARNING \tCannot load laps, telemetry, weather, and message data because the relevant API is not supported for this session.\n",
      "core           INFO \tFinished loading data for 22 drivers: ['44', '6', '1', '14', '27', '22', '19', '77', '20', '26', '8', '7', '10', '9', '4', '3', '21', '99', '25', '17', '13', '11']\n",
      "core           INFO \tLoading data for Malaysian Grand Prix - Race [v3.4.4]\n",
      "req            INFO \tNo cached data found for session_info. Loading data...\n",
      "_api           INFO \tFetching session info data...\n"
     ]
    },
    {
     "name": "stdout",
     "output_type": "stream",
     "text": [
      "Error loading data for 2014 Malaysian Grand Prix: The data you are trying to access has not been loaded yet. See `Session.load`\n"
     ]
    },
    {
     "name": "stderr",
     "output_type": "stream",
     "text": [
      "logger      WARNING \tFailed to load session info data!\n",
      "core        WARNING \tCannot load laps, telemetry, weather, and message data because the relevant API is not supported for this session.\n",
      "core           INFO \tFinished loading data for 22 drivers: ['44', '6', '1', '14', '27', '22', '19', '77', '20', '26', '8', '7', '10', '9', '4', '3', '21', '99', '25', '17', '13', '11']\n",
      "core           INFO \tLoading data for Malaysian Grand Prix - Race [v3.4.4]\n",
      "req            INFO \tNo cached data found for session_info. Loading data...\n",
      "_api           INFO \tFetching session info data...\n"
     ]
    },
    {
     "name": "stdout",
     "output_type": "stream",
     "text": [
      "Error loading data for 2014 Malaysian Grand Prix: The data you are trying to access has not been loaded yet. See `Session.load`\n"
     ]
    },
    {
     "name": "stderr",
     "output_type": "stream",
     "text": [
      "logger      WARNING \tFailed to load session info data!\n",
      "core        WARNING \tCannot load laps, telemetry, weather, and message data because the relevant API is not supported for this session.\n",
      "core           INFO \tFinished loading data for 22 drivers: ['44', '6', '1', '14', '27', '22', '19', '77', '20', '26', '8', '7', '10', '9', '4', '3', '21', '99', '25', '17', '13', '11']\n",
      "core           INFO \tLoading data for Malaysian Grand Prix - Race [v3.4.4]\n",
      "req            INFO \tNo cached data found for session_info. Loading data...\n",
      "_api           INFO \tFetching session info data...\n"
     ]
    },
    {
     "name": "stdout",
     "output_type": "stream",
     "text": [
      "Error loading data for 2014 Malaysian Grand Prix: The data you are trying to access has not been loaded yet. See `Session.load`\n"
     ]
    },
    {
     "name": "stderr",
     "output_type": "stream",
     "text": [
      "logger      WARNING \tFailed to load session info data!\n",
      "core        WARNING \tCannot load laps, telemetry, weather, and message data because the relevant API is not supported for this session.\n",
      "core           INFO \tFinished loading data for 22 drivers: ['44', '6', '1', '14', '27', '22', '19', '77', '20', '26', '8', '7', '10', '9', '4', '3', '21', '99', '25', '17', '13', '11']\n",
      "core           INFO \tLoading data for Bahrain Grand Prix - Race [v3.4.4]\n",
      "req            INFO \tNo cached data found for session_info. Loading data...\n",
      "_api           INFO \tFetching session info data...\n"
     ]
    },
    {
     "name": "stdout",
     "output_type": "stream",
     "text": [
      "Error loading data for 2014 Malaysian Grand Prix: The data you are trying to access has not been loaded yet. See `Session.load`\n"
     ]
    },
    {
     "name": "stderr",
     "output_type": "stream",
     "text": [
      "logger      WARNING \tFailed to load session info data!\n",
      "core        WARNING \tCannot load laps, telemetry, weather, and message data because the relevant API is not supported for this session.\n",
      "core           INFO \tFinished loading data for 22 drivers: ['44', '6', '11', '3', '27', '1', '19', '77', '14', '7', '26', '8', '4', '13', '10', '17', '22', '20', '21', '9', '25', '99']\n",
      "core           INFO \tLoading data for Bahrain Grand Prix - Race [v3.4.4]\n",
      "req            INFO \tNo cached data found for session_info. Loading data...\n",
      "_api           INFO \tFetching session info data...\n"
     ]
    },
    {
     "name": "stdout",
     "output_type": "stream",
     "text": [
      "Error loading data for 2014 Bahrain Grand Prix: The data you are trying to access has not been loaded yet. See `Session.load`\n"
     ]
    },
    {
     "name": "stderr",
     "output_type": "stream",
     "text": [
      "logger      WARNING \tFailed to load session info data!\n",
      "core        WARNING \tCannot load laps, telemetry, weather, and message data because the relevant API is not supported for this session.\n",
      "core           INFO \tFinished loading data for 22 drivers: ['44', '6', '11', '3', '27', '1', '19', '77', '14', '7', '26', '8', '4', '13', '10', '17', '22', '20', '21', '9', '25', '99']\n",
      "core           INFO \tLoading data for Chinese Grand Prix - Race [v3.4.4]\n",
      "req            INFO \tNo cached data found for session_info. Loading data...\n",
      "_api           INFO \tFetching session info data...\n"
     ]
    },
    {
     "name": "stdout",
     "output_type": "stream",
     "text": [
      "Error loading data for 2014 Bahrain Grand Prix: The data you are trying to access has not been loaded yet. See `Session.load`\n"
     ]
    },
    {
     "name": "stderr",
     "output_type": "stream",
     "text": [
      "logger      WARNING \tFailed to load session info data!\n",
      "core        WARNING \tCannot load laps, telemetry, weather, and message data because the relevant API is not supported for this session.\n",
      "core           INFO \tFinished loading data for 22 drivers: ['44', '6', '14', '3', '1', '27', '77', '7', '11', '26', '22', '25', '20', '13', '19', '21', '17', '10', '4', '9', '8', '99']\n",
      "core           INFO \tLoading data for Chinese Grand Prix - Race [v3.4.4]\n",
      "req            INFO \tNo cached data found for session_info. Loading data...\n",
      "_api           INFO \tFetching session info data...\n"
     ]
    },
    {
     "name": "stdout",
     "output_type": "stream",
     "text": [
      "Error loading data for 2014 Chinese Grand Prix: The data you are trying to access has not been loaded yet. See `Session.load`\n"
     ]
    },
    {
     "name": "stderr",
     "output_type": "stream",
     "text": [
      "logger      WARNING \tFailed to load session info data!\n",
      "core        WARNING \tCannot load laps, telemetry, weather, and message data because the relevant API is not supported for this session.\n",
      "core           INFO \tFinished loading data for 22 drivers: ['44', '6', '14', '3', '1', '27', '77', '7', '11', '26', '22', '25', '20', '13', '19', '21', '17', '10', '4', '9', '8', '99']\n",
      "core           INFO \tLoading data for Spanish Grand Prix - Race [v3.4.4]\n",
      "req            INFO \tNo cached data found for session_info. Loading data...\n",
      "_api           INFO \tFetching session info data...\n"
     ]
    },
    {
     "name": "stdout",
     "output_type": "stream",
     "text": [
      "Error loading data for 2014 Chinese Grand Prix: The data you are trying to access has not been loaded yet. See `Session.load`\n"
     ]
    },
    {
     "name": "stderr",
     "output_type": "stream",
     "text": [
      "logger      WARNING \tFailed to load session info data!\n",
      "core        WARNING \tCannot load laps, telemetry, weather, and message data because the relevant API is not supported for this session.\n",
      "core           INFO \tFinished loading data for 22 drivers: ['44', '6', '3', '1', '77', '14', '7', '8', '11', '27', '22', '20', '19', '26', '13', '21', '99', '17', '4', '9', '10', '25']\n",
      "core           INFO \tLoading data for Spanish Grand Prix - Race [v3.4.4]\n",
      "req            INFO \tNo cached data found for session_info. Loading data...\n",
      "_api           INFO \tFetching session info data...\n"
     ]
    },
    {
     "name": "stdout",
     "output_type": "stream",
     "text": [
      "Error loading data for 2014 Spanish Grand Prix: The data you are trying to access has not been loaded yet. See `Session.load`\n"
     ]
    },
    {
     "name": "stderr",
     "output_type": "stream",
     "text": [
      "logger      WARNING \tFailed to load session info data!\n",
      "core        WARNING \tCannot load laps, telemetry, weather, and message data because the relevant API is not supported for this session.\n",
      "core           INFO \tFinished loading data for 22 drivers: ['44', '6', '3', '1', '77', '14', '7', '8', '11', '27', '22', '20', '19', '26', '13', '21', '99', '17', '4', '9', '10', '25']\n",
      "core           INFO \tLoading data for Monaco Grand Prix - Race [v3.4.4]\n",
      "req            INFO \tNo cached data found for session_info. Loading data...\n",
      "_api           INFO \tFetching session info data...\n"
     ]
    },
    {
     "name": "stdout",
     "output_type": "stream",
     "text": [
      "Error loading data for 2014 Spanish Grand Prix: The data you are trying to access has not been loaded yet. See `Session.load`\n"
     ]
    },
    {
     "name": "stderr",
     "output_type": "stream",
     "text": [
      "logger      WARNING \tFailed to load session info data!\n",
      "core        WARNING \tCannot load laps, telemetry, weather, and message data because the relevant API is not supported for this session.\n",
      "core           INFO \tFinished loading data for 22 drivers: ['6', '44', '3', '14', '27', '22', '19', '8', '17', '20', '9', '7', '10', '4', '21', '77', '25', '99', '26', '1', '11', '13']\n",
      "core           INFO \tLoading data for Monaco Grand Prix - Race [v3.4.4]\n",
      "req            INFO \tNo cached data found for session_info. Loading data...\n",
      "_api           INFO \tFetching session info data...\n"
     ]
    },
    {
     "name": "stdout",
     "output_type": "stream",
     "text": [
      "Error loading data for 2014 Monaco Grand Prix: The data you are trying to access has not been loaded yet. See `Session.load`\n"
     ]
    },
    {
     "name": "stderr",
     "output_type": "stream",
     "text": [
      "logger      WARNING \tFailed to load session info data!\n",
      "core        WARNING \tCannot load laps, telemetry, weather, and message data because the relevant API is not supported for this session.\n",
      "core           INFO \tFinished loading data for 22 drivers: ['6', '44', '3', '14', '27', '22', '19', '8', '17', '20', '9', '7', '10', '4', '21', '77', '25', '99', '26', '1', '11', '13']\n",
      "core           INFO \tLoading data for Monaco Grand Prix - Race [v3.4.4]\n",
      "req            INFO \tNo cached data found for session_info. Loading data...\n",
      "_api           INFO \tFetching session info data...\n"
     ]
    },
    {
     "name": "stdout",
     "output_type": "stream",
     "text": [
      "Error loading data for 2014 Monaco Grand Prix: The data you are trying to access has not been loaded yet. See `Session.load`\n"
     ]
    },
    {
     "name": "stderr",
     "output_type": "stream",
     "text": [
      "logger      WARNING \tFailed to load session info data!\n",
      "core        WARNING \tCannot load laps, telemetry, weather, and message data because the relevant API is not supported for this session.\n",
      "core           INFO \tFinished loading data for 22 drivers: ['6', '44', '3', '14', '27', '22', '19', '8', '17', '20', '9', '7', '10', '4', '21', '77', '25', '99', '26', '1', '11', '13']\n",
      "core           INFO \tLoading data for Monaco Grand Prix - Race [v3.4.4]\n",
      "req            INFO \tNo cached data found for session_info. Loading data...\n",
      "_api           INFO \tFetching session info data...\n"
     ]
    },
    {
     "name": "stdout",
     "output_type": "stream",
     "text": [
      "Error loading data for 2014 Monaco Grand Prix: The data you are trying to access has not been loaded yet. See `Session.load`\n"
     ]
    },
    {
     "name": "stderr",
     "output_type": "stream",
     "text": [
      "logger      WARNING \tFailed to load session info data!\n",
      "core        WARNING \tCannot load laps, telemetry, weather, and message data because the relevant API is not supported for this session.\n",
      "core           INFO \tFinished loading data for 22 drivers: ['6', '44', '3', '14', '27', '22', '19', '8', '17', '20', '9', '7', '10', '4', '21', '77', '25', '99', '26', '1', '11', '13']\n",
      "core           INFO \tLoading data for Canadian Grand Prix - Race [v3.4.4]\n",
      "req            INFO \tNo cached data found for session_info. Loading data...\n",
      "_api           INFO \tFetching session info data...\n"
     ]
    },
    {
     "name": "stdout",
     "output_type": "stream",
     "text": [
      "Error loading data for 2014 Monaco Grand Prix: The data you are trying to access has not been loaded yet. See `Session.load`\n"
     ]
    },
    {
     "name": "stderr",
     "output_type": "stream",
     "text": [
      "logger      WARNING \tFailed to load session info data!\n",
      "core        WARNING \tCannot load laps, telemetry, weather, and message data because the relevant API is not supported for this session.\n",
      "core           INFO \tFinished loading data for 22 drivers: ['3', '6', '1', '22', '27', '14', '77', '25', '20', '7', '11', '19', '99', '21', '8', '26', '44', '10', '13', '9', '4', '17']\n",
      "core           INFO \tLoading data for Canadian Grand Prix - Race [v3.4.4]\n",
      "req            INFO \tNo cached data found for session_info. Loading data...\n",
      "_api           INFO \tFetching session info data...\n"
     ]
    },
    {
     "name": "stdout",
     "output_type": "stream",
     "text": [
      "Error loading data for 2014 Canadian Grand Prix: The data you are trying to access has not been loaded yet. See `Session.load`\n"
     ]
    },
    {
     "name": "stderr",
     "output_type": "stream",
     "text": [
      "logger      WARNING \tFailed to load session info data!\n",
      "core        WARNING \tCannot load laps, telemetry, weather, and message data because the relevant API is not supported for this session.\n",
      "core           INFO \tFinished loading data for 22 drivers: ['3', '6', '1', '22', '27', '14', '77', '25', '20', '7', '11', '19', '99', '21', '8', '26', '44', '10', '13', '9', '4', '17']\n",
      "core           INFO \tLoading data for Canadian Grand Prix - Race [v3.4.4]\n",
      "req            INFO \tNo cached data found for session_info. Loading data...\n",
      "_api           INFO \tFetching session info data...\n"
     ]
    },
    {
     "name": "stdout",
     "output_type": "stream",
     "text": [
      "Error loading data for 2014 Canadian Grand Prix: The data you are trying to access has not been loaded yet. See `Session.load`\n"
     ]
    },
    {
     "name": "stderr",
     "output_type": "stream",
     "text": [
      "logger      WARNING \tFailed to load session info data!\n",
      "core        WARNING \tCannot load laps, telemetry, weather, and message data because the relevant API is not supported for this session.\n",
      "core           INFO \tFinished loading data for 22 drivers: ['3', '6', '1', '22', '27', '14', '77', '25', '20', '7', '11', '19', '99', '21', '8', '26', '44', '10', '13', '9', '4', '17']\n",
      "core           INFO \tLoading data for Canadian Grand Prix - Race [v3.4.4]\n",
      "req            INFO \tNo cached data found for session_info. Loading data...\n",
      "_api           INFO \tFetching session info data...\n"
     ]
    },
    {
     "name": "stdout",
     "output_type": "stream",
     "text": [
      "Error loading data for 2014 Canadian Grand Prix: The data you are trying to access has not been loaded yet. See `Session.load`\n"
     ]
    },
    {
     "name": "stderr",
     "output_type": "stream",
     "text": [
      "logger      WARNING \tFailed to load session info data!\n",
      "core        WARNING \tCannot load laps, telemetry, weather, and message data because the relevant API is not supported for this session.\n",
      "core           INFO \tFinished loading data for 22 drivers: ['3', '6', '1', '22', '27', '14', '77', '25', '20', '7', '11', '19', '99', '21', '8', '26', '44', '10', '13', '9', '4', '17']\n",
      "core           INFO \tLoading data for Canadian Grand Prix - Race [v3.4.4]\n",
      "req            INFO \tNo cached data found for session_info. Loading data...\n",
      "_api           INFO \tFetching session info data...\n"
     ]
    },
    {
     "name": "stdout",
     "output_type": "stream",
     "text": [
      "Error loading data for 2014 Canadian Grand Prix: The data you are trying to access has not been loaded yet. See `Session.load`\n"
     ]
    },
    {
     "name": "stderr",
     "output_type": "stream",
     "text": [
      "logger      WARNING \tFailed to load session info data!\n",
      "core        WARNING \tCannot load laps, telemetry, weather, and message data because the relevant API is not supported for this session.\n",
      "core           INFO \tFinished loading data for 22 drivers: ['3', '6', '1', '22', '27', '14', '77', '25', '20', '7', '11', '19', '99', '21', '8', '26', '44', '10', '13', '9', '4', '17']\n",
      "core           INFO \tLoading data for Canadian Grand Prix - Race [v3.4.4]\n",
      "req            INFO \tNo cached data found for session_info. Loading data...\n",
      "_api           INFO \tFetching session info data...\n"
     ]
    },
    {
     "name": "stdout",
     "output_type": "stream",
     "text": [
      "Error loading data for 2014 Canadian Grand Prix: The data you are trying to access has not been loaded yet. See `Session.load`\n"
     ]
    },
    {
     "name": "stderr",
     "output_type": "stream",
     "text": [
      "logger      WARNING \tFailed to load session info data!\n",
      "core        WARNING \tCannot load laps, telemetry, weather, and message data because the relevant API is not supported for this session.\n",
      "core           INFO \tFinished loading data for 22 drivers: ['3', '6', '1', '22', '27', '14', '77', '25', '20', '7', '11', '19', '99', '21', '8', '26', '44', '10', '13', '9', '4', '17']\n",
      "core           INFO \tLoading data for Canadian Grand Prix - Race [v3.4.4]\n",
      "req            INFO \tNo cached data found for session_info. Loading data...\n",
      "_api           INFO \tFetching session info data...\n"
     ]
    },
    {
     "name": "stdout",
     "output_type": "stream",
     "text": [
      "Error loading data for 2014 Canadian Grand Prix: The data you are trying to access has not been loaded yet. See `Session.load`\n"
     ]
    },
    {
     "name": "stderr",
     "output_type": "stream",
     "text": [
      "logger      WARNING \tFailed to load session info data!\n",
      "core        WARNING \tCannot load laps, telemetry, weather, and message data because the relevant API is not supported for this session.\n",
      "core           INFO \tFinished loading data for 22 drivers: ['3', '6', '1', '22', '27', '14', '77', '25', '20', '7', '11', '19', '99', '21', '8', '26', '44', '10', '13', '9', '4', '17']\n",
      "core           INFO \tLoading data for Austrian Grand Prix - Race [v3.4.4]\n",
      "req            INFO \tNo cached data found for session_info. Loading data...\n",
      "_api           INFO \tFetching session info data...\n"
     ]
    },
    {
     "name": "stdout",
     "output_type": "stream",
     "text": [
      "Error loading data for 2014 Canadian Grand Prix: The data you are trying to access has not been loaded yet. See `Session.load`\n"
     ]
    },
    {
     "name": "stderr",
     "output_type": "stream",
     "text": [
      "logger      WARNING \tFailed to load session info data!\n",
      "core        WARNING \tCannot load laps, telemetry, weather, and message data because the relevant API is not supported for this session.\n",
      "core           INFO \tFinished loading data for 22 drivers: ['6', '44', '77', '19', '14', '11', '20', '3', '27', '7', '22', '13', '99', '8', '17', '10', '4', '9', '21', '25', '1', '26']\n",
      "core           INFO \tLoading data for Austrian Grand Prix - Race [v3.4.4]\n",
      "req            INFO \tNo cached data found for session_info. Loading data...\n",
      "_api           INFO \tFetching session info data...\n"
     ]
    },
    {
     "name": "stdout",
     "output_type": "stream",
     "text": [
      "Error loading data for 2014 Austrian Grand Prix: The data you are trying to access has not been loaded yet. See `Session.load`\n"
     ]
    },
    {
     "name": "stderr",
     "output_type": "stream",
     "text": [
      "logger      WARNING \tFailed to load session info data!\n",
      "core        WARNING \tCannot load laps, telemetry, weather, and message data because the relevant API is not supported for this session.\n",
      "core           INFO \tFinished loading data for 22 drivers: ['6', '44', '77', '19', '14', '11', '20', '3', '27', '7', '22', '13', '99', '8', '17', '10', '4', '9', '21', '25', '1', '26']\n",
      "core           INFO \tLoading data for Austrian Grand Prix - Race [v3.4.4]\n",
      "req            INFO \tNo cached data found for session_info. Loading data...\n",
      "_api           INFO \tFetching session info data...\n"
     ]
    },
    {
     "name": "stdout",
     "output_type": "stream",
     "text": [
      "Error loading data for 2014 Austrian Grand Prix: The data you are trying to access has not been loaded yet. See `Session.load`\n"
     ]
    },
    {
     "name": "stderr",
     "output_type": "stream",
     "text": [
      "logger      WARNING \tFailed to load session info data!\n",
      "core        WARNING \tCannot load laps, telemetry, weather, and message data because the relevant API is not supported for this session.\n",
      "core           INFO \tFinished loading data for 22 drivers: ['6', '44', '77', '19', '14', '11', '20', '3', '27', '7', '22', '13', '99', '8', '17', '10', '4', '9', '21', '25', '1', '26']\n",
      "core           INFO \tLoading data for British Grand Prix - Race [v3.4.4]\n",
      "req            INFO \tNo cached data found for session_info. Loading data...\n",
      "_api           INFO \tFetching session info data...\n"
     ]
    },
    {
     "name": "stdout",
     "output_type": "stream",
     "text": [
      "Error loading data for 2014 Austrian Grand Prix: The data you are trying to access has not been loaded yet. See `Session.load`\n"
     ]
    },
    {
     "name": "stderr",
     "output_type": "stream",
     "text": [
      "logger      WARNING \tFailed to load session info data!\n",
      "core        WARNING \tCannot load laps, telemetry, weather, and message data because the relevant API is not supported for this session.\n",
      "core           INFO \tFinished loading data for 22 drivers: ['44', '77', '3', '22', '1', '14', '20', '27', '26', '25', '11', '8', '99', '17', '10', '4', '13', '6', '9', '21', '19', '7']\n",
      "core           INFO \tLoading data for British Grand Prix - Race [v3.4.4]\n",
      "req            INFO \tNo cached data found for session_info. Loading data...\n",
      "_api           INFO \tFetching session info data...\n"
     ]
    },
    {
     "name": "stdout",
     "output_type": "stream",
     "text": [
      "Error loading data for 2014 British Grand Prix: The data you are trying to access has not been loaded yet. See `Session.load`\n"
     ]
    },
    {
     "name": "stderr",
     "output_type": "stream",
     "text": [
      "logger      WARNING \tFailed to load session info data!\n",
      "core        WARNING \tCannot load laps, telemetry, weather, and message data because the relevant API is not supported for this session.\n",
      "core           INFO \tFinished loading data for 22 drivers: ['44', '77', '3', '22', '1', '14', '20', '27', '26', '25', '11', '8', '99', '17', '10', '4', '13', '6', '9', '21', '19', '7']\n",
      "core           INFO \tLoading data for German Grand Prix - Race [v3.4.4]\n",
      "req            INFO \tNo cached data found for session_info. Loading data...\n",
      "_api           INFO \tFetching session info data...\n"
     ]
    },
    {
     "name": "stdout",
     "output_type": "stream",
     "text": [
      "Error loading data for 2014 British Grand Prix: The data you are trying to access has not been loaded yet. See `Session.load`\n"
     ]
    },
    {
     "name": "stderr",
     "output_type": "stream",
     "text": [
      "logger      WARNING \tFailed to load session info data!\n",
      "core        WARNING \tCannot load laps, telemetry, weather, and message data because the relevant API is not supported for this session.\n",
      "core           INFO \tFinished loading data for 22 drivers: ['6', '77', '44', '1', '14', '3', '27', '22', '20', '11', '7', '13', '25', '21', '17', '10', '4', '9', '99', '26', '8', '19']\n",
      "core           INFO \tLoading data for German Grand Prix - Race [v3.4.4]\n",
      "req            INFO \tNo cached data found for session_info. Loading data...\n",
      "_api           INFO \tFetching session info data...\n"
     ]
    },
    {
     "name": "stdout",
     "output_type": "stream",
     "text": [
      "Error loading data for 2014 German Grand Prix: The data you are trying to access has not been loaded yet. See `Session.load`\n"
     ]
    },
    {
     "name": "stderr",
     "output_type": "stream",
     "text": [
      "logger      WARNING \tFailed to load session info data!\n",
      "core        WARNING \tCannot load laps, telemetry, weather, and message data because the relevant API is not supported for this session.\n",
      "core           INFO \tFinished loading data for 22 drivers: ['6', '77', '44', '1', '14', '3', '27', '22', '20', '11', '7', '13', '25', '21', '17', '10', '4', '9', '99', '26', '8', '19']\n",
      "core           INFO \tLoading data for German Grand Prix - Race [v3.4.4]\n",
      "req            INFO \tNo cached data found for session_info. Loading data...\n",
      "_api           INFO \tFetching session info data...\n"
     ]
    },
    {
     "name": "stdout",
     "output_type": "stream",
     "text": [
      "Error loading data for 2014 German Grand Prix: The data you are trying to access has not been loaded yet. See `Session.load`\n"
     ]
    },
    {
     "name": "stderr",
     "output_type": "stream",
     "text": [
      "logger      WARNING \tFailed to load session info data!\n",
      "core        WARNING \tCannot load laps, telemetry, weather, and message data because the relevant API is not supported for this session.\n",
      "core           INFO \tFinished loading data for 22 drivers: ['6', '77', '44', '1', '14', '3', '27', '22', '20', '11', '7', '13', '25', '21', '17', '10', '4', '9', '99', '26', '8', '19']\n",
      "core           INFO \tLoading data for Belgian Grand Prix - Race [v3.4.4]\n",
      "req            INFO \tNo cached data found for session_info. Loading data...\n",
      "_api           INFO \tFetching session info data...\n"
     ]
    },
    {
     "name": "stdout",
     "output_type": "stream",
     "text": [
      "Error loading data for 2014 German Grand Prix: The data you are trying to access has not been loaded yet. See `Session.load`\n"
     ]
    },
    {
     "name": "stderr",
     "output_type": "stream",
     "text": [
      "logger      WARNING \tFailed to load session info data!\n",
      "core        WARNING \tCannot load laps, telemetry, weather, and message data because the relevant API is not supported for this session.\n",
      "core           INFO \tFinished loading data for 22 drivers: ['3', '6', '77', '7', '1', '22', '14', '11', '26', '27', '25', '20', '19', '99', '21', '4', '9', '17', '44', '8', '13', '45']\n",
      "core           INFO \tLoading data for Belgian Grand Prix - Race [v3.4.4]\n",
      "req            INFO \tNo cached data found for session_info. Loading data...\n",
      "_api           INFO \tFetching session info data...\n"
     ]
    },
    {
     "name": "stdout",
     "output_type": "stream",
     "text": [
      "Error loading data for 2014 Belgian Grand Prix: The data you are trying to access has not been loaded yet. See `Session.load`\n"
     ]
    },
    {
     "name": "stderr",
     "output_type": "stream",
     "text": [
      "logger      WARNING \tFailed to load session info data!\n",
      "core        WARNING \tCannot load laps, telemetry, weather, and message data because the relevant API is not supported for this session.\n",
      "core           INFO \tFinished loading data for 22 drivers: ['3', '6', '77', '7', '1', '22', '14', '11', '26', '27', '25', '20', '19', '99', '21', '4', '9', '17', '44', '8', '13', '45']\n",
      "core           INFO \tLoading data for Belgian Grand Prix - Race [v3.4.4]\n",
      "req            INFO \tNo cached data found for session_info. Loading data...\n",
      "_api           INFO \tFetching session info data...\n"
     ]
    },
    {
     "name": "stdout",
     "output_type": "stream",
     "text": [
      "Error loading data for 2014 Belgian Grand Prix: The data you are trying to access has not been loaded yet. See `Session.load`\n"
     ]
    },
    {
     "name": "stderr",
     "output_type": "stream",
     "text": [
      "logger      WARNING \tFailed to load session info data!\n",
      "core        WARNING \tCannot load laps, telemetry, weather, and message data because the relevant API is not supported for this session.\n",
      "core           INFO \tFinished loading data for 22 drivers: ['3', '6', '77', '7', '1', '22', '14', '11', '26', '27', '25', '20', '19', '99', '21', '4', '9', '17', '44', '8', '13', '45']\n",
      "core           INFO \tLoading data for Italian Grand Prix - Race [v3.4.4]\n",
      "req            INFO \tNo cached data found for session_info. Loading data...\n",
      "_api           INFO \tFetching session info data...\n"
     ]
    },
    {
     "name": "stdout",
     "output_type": "stream",
     "text": [
      "Error loading data for 2014 Belgian Grand Prix: The data you are trying to access has not been loaded yet. See `Session.load`\n"
     ]
    },
    {
     "name": "stderr",
     "output_type": "stream",
     "text": [
      "logger      WARNING \tFailed to load session info data!\n",
      "core        WARNING \tCannot load laps, telemetry, weather, and message data because the relevant API is not supported for this session.\n",
      "core           INFO \tFinished loading data for 22 drivers: ['44', '6', '19', '77', '3', '1', '11', '22', '7', '20', '26', '27', '25', '13', '99', '8', '10', '17', '21', '9', '14', '4']\n",
      "core           INFO \tLoading data for Singapore Grand Prix - Race [v3.4.4]\n",
      "req            INFO \tNo cached data found for session_info. Loading data...\n",
      "_api           INFO \tFetching session info data...\n"
     ]
    },
    {
     "name": "stdout",
     "output_type": "stream",
     "text": [
      "Error loading data for 2014 Italian Grand Prix: The data you are trying to access has not been loaded yet. See `Session.load`\n"
     ]
    },
    {
     "name": "stderr",
     "output_type": "stream",
     "text": [
      "logger      WARNING \tFailed to load session info data!\n",
      "core        WARNING \tCannot load laps, telemetry, weather, and message data because the relevant API is not supported for this session.\n",
      "core           INFO \tFinished loading data for 22 drivers: ['44', '1', '3', '14', '19', '25', '11', '7', '27', '20', '77', '13', '8', '26', '9', '17', '4', '22', '99', '21', '6', '10']\n",
      "core           INFO \tLoading data for Singapore Grand Prix - Race [v3.4.4]\n",
      "req            INFO \tNo cached data found for session_info. Loading data...\n",
      "_api           INFO \tFetching session info data...\n"
     ]
    },
    {
     "name": "stdout",
     "output_type": "stream",
     "text": [
      "Error loading data for 2014 Singapore Grand Prix: The data you are trying to access has not been loaded yet. See `Session.load`\n"
     ]
    },
    {
     "name": "stderr",
     "output_type": "stream",
     "text": [
      "logger      WARNING \tFailed to load session info data!\n",
      "core        WARNING \tCannot load laps, telemetry, weather, and message data because the relevant API is not supported for this session.\n",
      "core           INFO \tFinished loading data for 22 drivers: ['44', '1', '3', '14', '19', '25', '11', '7', '27', '20', '77', '13', '8', '26', '9', '17', '4', '22', '99', '21', '6', '10']\n",
      "core           INFO \tLoading data for Singapore Grand Prix - Race [v3.4.4]\n",
      "req            INFO \tNo cached data found for session_info. Loading data...\n",
      "_api           INFO \tFetching session info data...\n"
     ]
    },
    {
     "name": "stdout",
     "output_type": "stream",
     "text": [
      "Error loading data for 2014 Singapore Grand Prix: The data you are trying to access has not been loaded yet. See `Session.load`\n"
     ]
    },
    {
     "name": "stderr",
     "output_type": "stream",
     "text": [
      "logger      WARNING \tFailed to load session info data!\n",
      "core        WARNING \tCannot load laps, telemetry, weather, and message data because the relevant API is not supported for this session.\n",
      "core           INFO \tFinished loading data for 22 drivers: ['44', '1', '3', '14', '19', '25', '11', '7', '27', '20', '77', '13', '8', '26', '9', '17', '4', '22', '99', '21', '6', '10']\n",
      "core           INFO \tLoading data for Singapore Grand Prix - Race [v3.4.4]\n",
      "req            INFO \tNo cached data found for session_info. Loading data...\n",
      "_api           INFO \tFetching session info data...\n"
     ]
    },
    {
     "name": "stdout",
     "output_type": "stream",
     "text": [
      "Error loading data for 2014 Singapore Grand Prix: The data you are trying to access has not been loaded yet. See `Session.load`\n"
     ]
    },
    {
     "name": "stderr",
     "output_type": "stream",
     "text": [
      "logger      WARNING \tFailed to load session info data!\n",
      "core        WARNING \tCannot load laps, telemetry, weather, and message data because the relevant API is not supported for this session.\n",
      "core           INFO \tFinished loading data for 22 drivers: ['44', '1', '3', '14', '19', '25', '11', '7', '27', '20', '77', '13', '8', '26', '9', '17', '4', '22', '99', '21', '6', '10']\n",
      "core           INFO \tLoading data for Japanese Grand Prix - Race [v3.4.4]\n",
      "req            INFO \tNo cached data found for session_info. Loading data...\n",
      "_api           INFO \tFetching session info data...\n"
     ]
    },
    {
     "name": "stdout",
     "output_type": "stream",
     "text": [
      "Error loading data for 2014 Singapore Grand Prix: The data you are trying to access has not been loaded yet. See `Session.load`\n"
     ]
    },
    {
     "name": "stderr",
     "output_type": "stream",
     "text": [
      "logger      WARNING \tFailed to load session info data!\n",
      "core        WARNING \tCannot load laps, telemetry, weather, and message data because the relevant API is not supported for this session.\n",
      "core           INFO \tFinished loading data for 22 drivers: ['44', '6', '1', '3', '22', '77', '19', '27', '25', '11', '26', '7', '21', '20', '8', '13', '9', '4', '10', '17', '99', '14']\n",
      "core           INFO \tLoading data for Russian Grand Prix - Race [v3.4.4]\n",
      "req            INFO \tNo cached data found for session_info. Loading data...\n",
      "_api           INFO \tFetching session info data...\n"
     ]
    },
    {
     "name": "stdout",
     "output_type": "stream",
     "text": [
      "Error loading data for 2014 Japanese Grand Prix: The data you are trying to access has not been loaded yet. See `Session.load`\n"
     ]
    },
    {
     "name": "stderr",
     "output_type": "stream",
     "text": [
      "logger      WARNING \tFailed to load session info data!\n",
      "core        WARNING \tCannot load laps, telemetry, weather, and message data because the relevant API is not supported for this session.\n",
      "core           INFO \tFinished loading data for 21 drivers: ['44', '6', '77', '22', '20', '14', '3', '1', '7', '11', '19', '27', '25', '26', '21', '99', '8', '13', '9', '10', '4']\n",
      "core           INFO \tLoading data for Russian Grand Prix - Race [v3.4.4]\n",
      "req            INFO \tNo cached data found for session_info. Loading data...\n",
      "_api           INFO \tFetching session info data...\n"
     ]
    },
    {
     "name": "stdout",
     "output_type": "stream",
     "text": [
      "Error loading data for 2014 Russian Grand Prix: The data you are trying to access has not been loaded yet. See `Session.load`\n"
     ]
    },
    {
     "name": "stderr",
     "output_type": "stream",
     "text": [
      "logger      WARNING \tFailed to load session info data!\n",
      "core        WARNING \tCannot load laps, telemetry, weather, and message data because the relevant API is not supported for this session.\n",
      "core           INFO \tFinished loading data for 21 drivers: ['44', '6', '77', '22', '20', '14', '3', '1', '7', '11', '19', '27', '25', '26', '21', '99', '8', '13', '9', '10', '4']\n",
      "core           INFO \tLoading data for United States Grand Prix - Race [v3.4.4]\n",
      "req            INFO \tNo cached data found for session_info. Loading data...\n",
      "_api           INFO \tFetching session info data...\n"
     ]
    },
    {
     "name": "stdout",
     "output_type": "stream",
     "text": [
      "Error loading data for 2014 Russian Grand Prix: The data you are trying to access has not been loaded yet. See `Session.load`\n"
     ]
    },
    {
     "name": "stderr",
     "output_type": "stream",
     "text": [
      "logger      WARNING \tFailed to load session info data!\n",
      "core        WARNING \tCannot load laps, telemetry, weather, and message data because the relevant API is not supported for this session.\n",
      "core           INFO \tFinished loading data for 18 drivers: ['44', '6', '3', '19', '77', '14', '1', '20', '13', '25', '8', '22', '7', '21', '26', '27', '11', '99']\n",
      "core           INFO \tLoading data for Brazilian Grand Prix - Race [v3.4.4]\n",
      "req            INFO \tNo cached data found for session_info. Loading data...\n",
      "_api           INFO \tFetching session info data...\n"
     ]
    },
    {
     "name": "stdout",
     "output_type": "stream",
     "text": [
      "Error loading data for 2014 United States Grand Prix: The data you are trying to access has not been loaded yet. See `Session.load`\n"
     ]
    },
    {
     "name": "stderr",
     "output_type": "stream",
     "text": [
      "logger      WARNING \tFailed to load session info data!\n",
      "core        WARNING \tCannot load laps, telemetry, weather, and message data because the relevant API is not supported for this session.\n",
      "core           INFO \tFinished loading data for 18 drivers: ['6', '44', '19', '22', '1', '14', '7', '27', '20', '77', '26', '13', '25', '21', '11', '99', '8', '3']\n",
      "core           INFO \tLoading data for Abu Dhabi Grand Prix - Race [v3.4.4]\n",
      "req            INFO \tNo cached data found for session_info. Loading data...\n",
      "_api           INFO \tFetching session info data...\n"
     ]
    },
    {
     "name": "stdout",
     "output_type": "stream",
     "text": [
      "Error loading data for 2014 Brazilian Grand Prix: The data you are trying to access has not been loaded yet. See `Session.load`\n"
     ]
    },
    {
     "name": "stderr",
     "output_type": "stream",
     "text": [
      "logger      WARNING \tFailed to load session info data!\n",
      "core        WARNING \tCannot load laps, telemetry, weather, and message data because the relevant API is not supported for this session.\n",
      "core           INFO \tFinished loading data for 20 drivers: ['44', '19', '77', '3', '22', '27', '11', '1', '14', '7', '20', '25', '8', '6', '21', '99', '46', '10', '13', '26']\n",
      "core           INFO \tLoading data for Abu Dhabi Grand Prix - Race [v3.4.4]\n",
      "req            INFO \tNo cached data found for session_info. Loading data...\n",
      "_api           INFO \tFetching session info data...\n"
     ]
    },
    {
     "name": "stdout",
     "output_type": "stream",
     "text": [
      "Error loading data for 2014 Abu Dhabi Grand Prix: The data you are trying to access has not been loaded yet. See `Session.load`\n"
     ]
    },
    {
     "name": "stderr",
     "output_type": "stream",
     "text": [
      "logger      WARNING \tFailed to load session info data!\n",
      "core        WARNING \tCannot load laps, telemetry, weather, and message data because the relevant API is not supported for this session.\n",
      "core           INFO \tFinished loading data for 20 drivers: ['44', '19', '77', '3', '22', '27', '11', '1', '14', '7', '20', '25', '8', '6', '21', '99', '46', '10', '13', '26']\n"
     ]
    },
    {
     "name": "stdout",
     "output_type": "stream",
     "text": [
      "Error loading data for 2014 Abu Dhabi Grand Prix: The data you are trying to access has not been loaded yet. See `Session.load`\n",
      "All csv have been saved\n"
     ]
    }
   ],
   "execution_count": 6
  },
  {
   "cell_type": "code",
   "metadata": {
    "ExecuteTime": {
     "end_time": "2024-11-26T17:40:45.917027Z",
     "start_time": "2024-11-26T17:40:45.914615Z"
    }
   },
   "source": [],
   "outputs": [],
   "execution_count": 6
  }
 ],
 "metadata": {
  "kernelspec": {
   "display_name": "Python 3",
   "language": "python",
   "name": "python3"
  },
  "language_info": {
   "codemirror_mode": {
    "name": "ipython",
    "version": 3
   },
   "file_extension": ".py",
   "mimetype": "text/x-python",
   "name": "python",
   "nbconvert_exporter": "python",
   "pygments_lexer": "ipython3",
   "version": "3.9.6"
  }
 },
 "nbformat": 4,
 "nbformat_minor": 2
}
